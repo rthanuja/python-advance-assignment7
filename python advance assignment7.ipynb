{
 "cells": [
  {
   "cell_type": "code",
   "execution_count": null,
   "id": "f71c4362",
   "metadata": {},
   "outputs": [],
   "source": [
    "Q1. What is the purpose of the try statement?\n",
    "\n",
    "The try statement is used for exception handling.The purpose of try statement is to check the code in the try clause for \n",
    "errors.If code in try block raises exception,except block will be exceuted to handle error."
   ]
  },
  {
   "cell_type": "code",
   "execution_count": 1,
   "id": "389c47c8",
   "metadata": {},
   "outputs": [
    {
     "name": "stdout",
     "output_type": "stream",
     "text": [
      "division by zero\n"
     ]
    }
   ],
   "source": [
    "try:\n",
    "    a=5/0\n",
    "    print(a)\n",
    "except Exception as e:\n",
    "    print(e)"
   ]
  },
  {
   "cell_type": "code",
   "execution_count": null,
   "id": "06c7feeb",
   "metadata": {},
   "outputs": [],
   "source": [
    "Q2. What are the two most popular try statement variations?\n",
    "\n",
    "try-except\n",
    "try-except- else\n",
    "try-except- else- finally\n",
    "\n",
    "try:\n",
    "    #code\n",
    "except:\n",
    "    # Executed if there is an error in the try block\n",
    "else:\n",
    "    # executed if there is no exception\n",
    "finally:\n",
    "    # code (always executed whether there is an exception or not)"
   ]
  },
  {
   "cell_type": "code",
   "execution_count": null,
   "id": "3ca23044",
   "metadata": {},
   "outputs": [],
   "source": [
    "Q3. What is the purpose of the raise statement?\n",
    "\n",
    "The purpose of raise statement is to raise an exception if a condition defined by the programmer is met.\n",
    "we can define what kind of error to raise, and the text to print to the user."
   ]
  },
  {
   "cell_type": "code",
   "execution_count": null,
   "id": "44d83dd9",
   "metadata": {},
   "outputs": [],
   "source": [
    "Q4. What does the assert statement do, and what other statement is it like?\n",
    "\n",
    "assert statement has a condition or expression which is supposed to be always true. assertion is the boolean expression \n",
    "that checks if the statement is True or False.If the condition is false,assert halts the program and gives an AssertionError.\n",
    "\n",
    "Syntax :\n",
    "assert <condition>\n",
    "assert <condition>,<error message>"
   ]
  },
  {
   "cell_type": "code",
   "execution_count": null,
   "id": "794d8688",
   "metadata": {},
   "outputs": [],
   "source": [
    "Q5. What is the purpose of the with/as argument, and what other statement is it like?\n",
    "\n",
    "The purpose of the with/as argument is to ensure proper acquisition, release of resources and exception handling.\n",
    "It ensures that resources are closed immediately after processing.Reading or writing to a file is a\n",
    "common use of the with statement.\n",
    "It is like a try-except block.\n",
    "\n",
    "with open('file.txt','r') as file:\n",
    "    file.read()"
   ]
  }
 ],
 "metadata": {
  "kernelspec": {
   "display_name": "Python 3 (ipykernel)",
   "language": "python",
   "name": "python3"
  },
  "language_info": {
   "codemirror_mode": {
    "name": "ipython",
    "version": 3
   },
   "file_extension": ".py",
   "mimetype": "text/x-python",
   "name": "python",
   "nbconvert_exporter": "python",
   "pygments_lexer": "ipython3",
   "version": "3.10.9"
  }
 },
 "nbformat": 4,
 "nbformat_minor": 5
}
